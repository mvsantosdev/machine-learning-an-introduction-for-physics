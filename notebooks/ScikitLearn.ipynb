{
 "cells": [
  {
   "cell_type": "markdown",
   "metadata": {},
   "source": [
    "# SciKit-Learn\n",
    "\n",
    "The main Python's Machine Learning library\n",
    "\n",
    "site: https://scikit-learn.org/\n",
    "\n",
    "Why SciKit-Learn?\n",
    "\n",
    "1. Simple and efficient tools for predictive data analysis\n",
    "2. Accessible to everybody, and reusable in various contexts\n",
    "3. Built on NumPy, SciPy, and Matplotlib\n",
    "4. Open source, commercially usable - BSD license"
   ]
  },
  {
   "cell_type": "code",
   "execution_count": 15,
   "metadata": {},
   "outputs": [],
   "source": [
    "#First of all\n",
    "\n",
    "import numpy as np\n",
    "import pandas as pd\n",
    "\n",
    "import matplotlib.pyplot as plt\n",
    "import seaborn as sns"
   ]
  },
  {
   "cell_type": "markdown",
   "metadata": {},
   "source": [
    "## Datasets\n",
    "\n",
    "https://scikit-learn.org/stable/datasets\n",
    "\n",
    "### Iris Dataset"
   ]
  },
  {
   "cell_type": "code",
   "execution_count": 1,
   "metadata": {},
   "outputs": [],
   "source": [
    "from sklearn import datasets"
   ]
  },
  {
   "cell_type": "code",
   "execution_count": 2,
   "metadata": {},
   "outputs": [],
   "source": [
    "iris = datasets.load_iris()"
   ]
  },
  {
   "cell_type": "code",
   "execution_count": 3,
   "metadata": {
    "scrolled": false
   },
   "outputs": [
    {
     "data": {
      "text/plain": [
       "sklearn.utils.Bunch"
      ]
     },
     "execution_count": 3,
     "metadata": {},
     "output_type": "execute_result"
    }
   ],
   "source": [
    "type(iris)"
   ]
  },
  {
   "cell_type": "code",
   "execution_count": 4,
   "metadata": {},
   "outputs": [
    {
     "data": {
      "text/plain": [
       "dict_keys(['data', 'target', 'target_names', 'DESCR', 'feature_names', 'filename'])"
      ]
     },
     "execution_count": 4,
     "metadata": {},
     "output_type": "execute_result"
    }
   ],
   "source": [
    "iris.keys()"
   ]
  },
  {
   "cell_type": "code",
   "execution_count": 5,
   "metadata": {},
   "outputs": [
    {
     "data": {
      "text/plain": [
       "array([[5.1, 3.5, 1.4, 0.2],\n",
       "       [4.9, 3. , 1.4, 0.2],\n",
       "       [4.7, 3.2, 1.3, 0.2],\n",
       "       [4.6, 3.1, 1.5, 0.2],\n",
       "       [5. , 3.6, 1.4, 0.2],\n",
       "       [5.4, 3.9, 1.7, 0.4],\n",
       "       [4.6, 3.4, 1.4, 0.3],\n",
       "       [5. , 3.4, 1.5, 0.2],\n",
       "       [4.4, 2.9, 1.4, 0.2],\n",
       "       [4.9, 3.1, 1.5, 0.1],\n",
       "       [5.4, 3.7, 1.5, 0.2],\n",
       "       [4.8, 3.4, 1.6, 0.2],\n",
       "       [4.8, 3. , 1.4, 0.1],\n",
       "       [4.3, 3. , 1.1, 0.1],\n",
       "       [5.8, 4. , 1.2, 0.2],\n",
       "       [5.7, 4.4, 1.5, 0.4],\n",
       "       [5.4, 3.9, 1.3, 0.4],\n",
       "       [5.1, 3.5, 1.4, 0.3],\n",
       "       [5.7, 3.8, 1.7, 0.3],\n",
       "       [5.1, 3.8, 1.5, 0.3],\n",
       "       [5.4, 3.4, 1.7, 0.2],\n",
       "       [5.1, 3.7, 1.5, 0.4],\n",
       "       [4.6, 3.6, 1. , 0.2],\n",
       "       [5.1, 3.3, 1.7, 0.5],\n",
       "       [4.8, 3.4, 1.9, 0.2],\n",
       "       [5. , 3. , 1.6, 0.2],\n",
       "       [5. , 3.4, 1.6, 0.4],\n",
       "       [5.2, 3.5, 1.5, 0.2],\n",
       "       [5.2, 3.4, 1.4, 0.2],\n",
       "       [4.7, 3.2, 1.6, 0.2],\n",
       "       [4.8, 3.1, 1.6, 0.2],\n",
       "       [5.4, 3.4, 1.5, 0.4],\n",
       "       [5.2, 4.1, 1.5, 0.1],\n",
       "       [5.5, 4.2, 1.4, 0.2],\n",
       "       [4.9, 3.1, 1.5, 0.2],\n",
       "       [5. , 3.2, 1.2, 0.2],\n",
       "       [5.5, 3.5, 1.3, 0.2],\n",
       "       [4.9, 3.6, 1.4, 0.1],\n",
       "       [4.4, 3. , 1.3, 0.2],\n",
       "       [5.1, 3.4, 1.5, 0.2],\n",
       "       [5. , 3.5, 1.3, 0.3],\n",
       "       [4.5, 2.3, 1.3, 0.3],\n",
       "       [4.4, 3.2, 1.3, 0.2],\n",
       "       [5. , 3.5, 1.6, 0.6],\n",
       "       [5.1, 3.8, 1.9, 0.4],\n",
       "       [4.8, 3. , 1.4, 0.3],\n",
       "       [5.1, 3.8, 1.6, 0.2],\n",
       "       [4.6, 3.2, 1.4, 0.2],\n",
       "       [5.3, 3.7, 1.5, 0.2],\n",
       "       [5. , 3.3, 1.4, 0.2],\n",
       "       [7. , 3.2, 4.7, 1.4],\n",
       "       [6.4, 3.2, 4.5, 1.5],\n",
       "       [6.9, 3.1, 4.9, 1.5],\n",
       "       [5.5, 2.3, 4. , 1.3],\n",
       "       [6.5, 2.8, 4.6, 1.5],\n",
       "       [5.7, 2.8, 4.5, 1.3],\n",
       "       [6.3, 3.3, 4.7, 1.6],\n",
       "       [4.9, 2.4, 3.3, 1. ],\n",
       "       [6.6, 2.9, 4.6, 1.3],\n",
       "       [5.2, 2.7, 3.9, 1.4],\n",
       "       [5. , 2. , 3.5, 1. ],\n",
       "       [5.9, 3. , 4.2, 1.5],\n",
       "       [6. , 2.2, 4. , 1. ],\n",
       "       [6.1, 2.9, 4.7, 1.4],\n",
       "       [5.6, 2.9, 3.6, 1.3],\n",
       "       [6.7, 3.1, 4.4, 1.4],\n",
       "       [5.6, 3. , 4.5, 1.5],\n",
       "       [5.8, 2.7, 4.1, 1. ],\n",
       "       [6.2, 2.2, 4.5, 1.5],\n",
       "       [5.6, 2.5, 3.9, 1.1],\n",
       "       [5.9, 3.2, 4.8, 1.8],\n",
       "       [6.1, 2.8, 4. , 1.3],\n",
       "       [6.3, 2.5, 4.9, 1.5],\n",
       "       [6.1, 2.8, 4.7, 1.2],\n",
       "       [6.4, 2.9, 4.3, 1.3],\n",
       "       [6.6, 3. , 4.4, 1.4],\n",
       "       [6.8, 2.8, 4.8, 1.4],\n",
       "       [6.7, 3. , 5. , 1.7],\n",
       "       [6. , 2.9, 4.5, 1.5],\n",
       "       [5.7, 2.6, 3.5, 1. ],\n",
       "       [5.5, 2.4, 3.8, 1.1],\n",
       "       [5.5, 2.4, 3.7, 1. ],\n",
       "       [5.8, 2.7, 3.9, 1.2],\n",
       "       [6. , 2.7, 5.1, 1.6],\n",
       "       [5.4, 3. , 4.5, 1.5],\n",
       "       [6. , 3.4, 4.5, 1.6],\n",
       "       [6.7, 3.1, 4.7, 1.5],\n",
       "       [6.3, 2.3, 4.4, 1.3],\n",
       "       [5.6, 3. , 4.1, 1.3],\n",
       "       [5.5, 2.5, 4. , 1.3],\n",
       "       [5.5, 2.6, 4.4, 1.2],\n",
       "       [6.1, 3. , 4.6, 1.4],\n",
       "       [5.8, 2.6, 4. , 1.2],\n",
       "       [5. , 2.3, 3.3, 1. ],\n",
       "       [5.6, 2.7, 4.2, 1.3],\n",
       "       [5.7, 3. , 4.2, 1.2],\n",
       "       [5.7, 2.9, 4.2, 1.3],\n",
       "       [6.2, 2.9, 4.3, 1.3],\n",
       "       [5.1, 2.5, 3. , 1.1],\n",
       "       [5.7, 2.8, 4.1, 1.3],\n",
       "       [6.3, 3.3, 6. , 2.5],\n",
       "       [5.8, 2.7, 5.1, 1.9],\n",
       "       [7.1, 3. , 5.9, 2.1],\n",
       "       [6.3, 2.9, 5.6, 1.8],\n",
       "       [6.5, 3. , 5.8, 2.2],\n",
       "       [7.6, 3. , 6.6, 2.1],\n",
       "       [4.9, 2.5, 4.5, 1.7],\n",
       "       [7.3, 2.9, 6.3, 1.8],\n",
       "       [6.7, 2.5, 5.8, 1.8],\n",
       "       [7.2, 3.6, 6.1, 2.5],\n",
       "       [6.5, 3.2, 5.1, 2. ],\n",
       "       [6.4, 2.7, 5.3, 1.9],\n",
       "       [6.8, 3. , 5.5, 2.1],\n",
       "       [5.7, 2.5, 5. , 2. ],\n",
       "       [5.8, 2.8, 5.1, 2.4],\n",
       "       [6.4, 3.2, 5.3, 2.3],\n",
       "       [6.5, 3. , 5.5, 1.8],\n",
       "       [7.7, 3.8, 6.7, 2.2],\n",
       "       [7.7, 2.6, 6.9, 2.3],\n",
       "       [6. , 2.2, 5. , 1.5],\n",
       "       [6.9, 3.2, 5.7, 2.3],\n",
       "       [5.6, 2.8, 4.9, 2. ],\n",
       "       [7.7, 2.8, 6.7, 2. ],\n",
       "       [6.3, 2.7, 4.9, 1.8],\n",
       "       [6.7, 3.3, 5.7, 2.1],\n",
       "       [7.2, 3.2, 6. , 1.8],\n",
       "       [6.2, 2.8, 4.8, 1.8],\n",
       "       [6.1, 3. , 4.9, 1.8],\n",
       "       [6.4, 2.8, 5.6, 2.1],\n",
       "       [7.2, 3. , 5.8, 1.6],\n",
       "       [7.4, 2.8, 6.1, 1.9],\n",
       "       [7.9, 3.8, 6.4, 2. ],\n",
       "       [6.4, 2.8, 5.6, 2.2],\n",
       "       [6.3, 2.8, 5.1, 1.5],\n",
       "       [6.1, 2.6, 5.6, 1.4],\n",
       "       [7.7, 3. , 6.1, 2.3],\n",
       "       [6.3, 3.4, 5.6, 2.4],\n",
       "       [6.4, 3.1, 5.5, 1.8],\n",
       "       [6. , 3. , 4.8, 1.8],\n",
       "       [6.9, 3.1, 5.4, 2.1],\n",
       "       [6.7, 3.1, 5.6, 2.4],\n",
       "       [6.9, 3.1, 5.1, 2.3],\n",
       "       [5.8, 2.7, 5.1, 1.9],\n",
       "       [6.8, 3.2, 5.9, 2.3],\n",
       "       [6.7, 3.3, 5.7, 2.5],\n",
       "       [6.7, 3. , 5.2, 2.3],\n",
       "       [6.3, 2.5, 5. , 1.9],\n",
       "       [6.5, 3. , 5.2, 2. ],\n",
       "       [6.2, 3.4, 5.4, 2.3],\n",
       "       [5.9, 3. , 5.1, 1.8]])"
      ]
     },
     "execution_count": 5,
     "metadata": {},
     "output_type": "execute_result"
    }
   ],
   "source": [
    "iris.data"
   ]
  },
  {
   "cell_type": "code",
   "execution_count": 6,
   "metadata": {},
   "outputs": [
    {
     "data": {
      "text/plain": [
       "['sepal length (cm)',\n",
       " 'sepal width (cm)',\n",
       " 'petal length (cm)',\n",
       " 'petal width (cm)']"
      ]
     },
     "execution_count": 6,
     "metadata": {},
     "output_type": "execute_result"
    }
   ],
   "source": [
    "iris.feature_names"
   ]
  },
  {
   "cell_type": "code",
   "execution_count": 7,
   "metadata": {},
   "outputs": [
    {
     "data": {
      "text/plain": [
       "array([0, 0, 0, 0, 0, 0, 0, 0, 0, 0, 0, 0, 0, 0, 0, 0, 0, 0, 0, 0, 0, 0,\n",
       "       0, 0, 0, 0, 0, 0, 0, 0, 0, 0, 0, 0, 0, 0, 0, 0, 0, 0, 0, 0, 0, 0,\n",
       "       0, 0, 0, 0, 0, 0, 1, 1, 1, 1, 1, 1, 1, 1, 1, 1, 1, 1, 1, 1, 1, 1,\n",
       "       1, 1, 1, 1, 1, 1, 1, 1, 1, 1, 1, 1, 1, 1, 1, 1, 1, 1, 1, 1, 1, 1,\n",
       "       1, 1, 1, 1, 1, 1, 1, 1, 1, 1, 1, 1, 2, 2, 2, 2, 2, 2, 2, 2, 2, 2,\n",
       "       2, 2, 2, 2, 2, 2, 2, 2, 2, 2, 2, 2, 2, 2, 2, 2, 2, 2, 2, 2, 2, 2,\n",
       "       2, 2, 2, 2, 2, 2, 2, 2, 2, 2, 2, 2, 2, 2, 2, 2, 2, 2])"
      ]
     },
     "execution_count": 7,
     "metadata": {},
     "output_type": "execute_result"
    }
   ],
   "source": [
    "iris.target"
   ]
  },
  {
   "cell_type": "code",
   "execution_count": 8,
   "metadata": {},
   "outputs": [
    {
     "data": {
      "text/plain": [
       "array(['setosa', 'versicolor', 'virginica'], dtype='<U10')"
      ]
     },
     "execution_count": 8,
     "metadata": {},
     "output_type": "execute_result"
    }
   ],
   "source": [
    "iris.target_names"
   ]
  },
  {
   "cell_type": "code",
   "execution_count": 10,
   "metadata": {},
   "outputs": [
    {
     "name": "stdout",
     "output_type": "stream",
     "text": [
      ".. _iris_dataset:\n",
      "\n",
      "Iris plants dataset\n",
      "--------------------\n",
      "\n",
      "**Data Set Characteristics:**\n",
      "\n",
      "    :Number of Instances: 150 (50 in each of three classes)\n",
      "    :Number of Attributes: 4 numeric, predictive attributes and the class\n",
      "    :Attribute Information:\n",
      "        - sepal length in cm\n",
      "        - sepal width in cm\n",
      "        - petal length in cm\n",
      "        - petal width in cm\n",
      "        - class:\n",
      "                - Iris-Setosa\n",
      "                - Iris-Versicolour\n",
      "                - Iris-Virginica\n",
      "                \n",
      "    :Summary Statistics:\n",
      "\n",
      "    ============== ==== ==== ======= ===== ====================\n",
      "                    Min  Max   Mean    SD   Class Correlation\n",
      "    ============== ==== ==== ======= ===== ====================\n",
      "    sepal length:   4.3  7.9   5.84   0.83    0.7826\n",
      "    sepal width:    2.0  4.4   3.05   0.43   -0.4194\n",
      "    petal length:   1.0  6.9   3.76   1.76    0.9490  (high!)\n",
      "    petal width:    0.1  2.5   1.20   0.76    0.9565  (high!)\n",
      "    ============== ==== ==== ======= ===== ====================\n",
      "\n",
      "    :Missing Attribute Values: None\n",
      "    :Class Distribution: 33.3% for each of 3 classes.\n",
      "    :Creator: R.A. Fisher\n",
      "    :Donor: Michael Marshall (MARSHALL%PLU@io.arc.nasa.gov)\n",
      "    :Date: July, 1988\n",
      "\n",
      "The famous Iris database, first used by Sir R.A. Fisher. The dataset is taken\n",
      "from Fisher's paper. Note that it's the same as in R, but not as in the UCI\n",
      "Machine Learning Repository, which has two wrong data points.\n",
      "\n",
      "This is perhaps the best known database to be found in the\n",
      "pattern recognition literature.  Fisher's paper is a classic in the field and\n",
      "is referenced frequently to this day.  (See Duda & Hart, for example.)  The\n",
      "data set contains 3 classes of 50 instances each, where each class refers to a\n",
      "type of iris plant.  One class is linearly separable from the other 2; the\n",
      "latter are NOT linearly separable from each other.\n",
      "\n",
      ".. topic:: References\n",
      "\n",
      "   - Fisher, R.A. \"The use of multiple measurements in taxonomic problems\"\n",
      "     Annual Eugenics, 7, Part II, 179-188 (1936); also in \"Contributions to\n",
      "     Mathematical Statistics\" (John Wiley, NY, 1950).\n",
      "   - Duda, R.O., & Hart, P.E. (1973) Pattern Classification and Scene Analysis.\n",
      "     (Q327.D83) John Wiley & Sons.  ISBN 0-471-22361-1.  See page 218.\n",
      "   - Dasarathy, B.V. (1980) \"Nosing Around the Neighborhood: A New System\n",
      "     Structure and Classification Rule for Recognition in Partially Exposed\n",
      "     Environments\".  IEEE Transactions on Pattern Analysis and Machine\n",
      "     Intelligence, Vol. PAMI-2, No. 1, 67-71.\n",
      "   - Gates, G.W. (1972) \"The Reduced Nearest Neighbor Rule\".  IEEE Transactions\n",
      "     on Information Theory, May 1972, 431-433.\n",
      "   - See also: 1988 MLC Proceedings, 54-64.  Cheeseman et al\"s AUTOCLASS II\n",
      "     conceptual clustering system finds 3 classes in the data.\n",
      "   - Many, many more ...\n"
     ]
    }
   ],
   "source": [
    "print(iris.DESCR)"
   ]
  },
  {
   "cell_type": "markdown",
   "metadata": {},
   "source": [
    "### Higgs dataset\n",
    "\n",
    "https://www.openml.org/d/4532\n",
    "\n",
    "original paper: https://arxiv.org/pdf/1402.4735.pdf"
   ]
  },
  {
   "cell_type": "code",
   "execution_count": 11,
   "metadata": {},
   "outputs": [],
   "source": [
    "higgs = datasets.fetch_openml(name='higgs', version=2)"
   ]
  },
  {
   "cell_type": "code",
   "execution_count": 12,
   "metadata": {},
   "outputs": [
    {
     "data": {
      "text/plain": [
       "dict_keys(['data', 'target', 'frame', 'feature_names', 'target_names', 'DESCR', 'details', 'categories', 'url'])"
      ]
     },
     "execution_count": 12,
     "metadata": {},
     "output_type": "execute_result"
    }
   ],
   "source": [
    "higgs.keys()"
   ]
  },
  {
   "cell_type": "code",
   "execution_count": 13,
   "metadata": {},
   "outputs": [
    {
     "name": "stdout",
     "output_type": "stream",
     "text": [
      "**Author**: Daniel Whiteson, University of California Irvine  \n",
      "**Source**: [UCI](https://archive.ics.uci.edu/ml/datasets/HIGGS)  \n",
      "**Please cite**: Baldi, P., P. Sadowski, and D. Whiteson. Searching for Exotic Particles in High-energy Physics with Deep Learning. Nature Communications 5 (July 2, 2014).  \n",
      "\n",
      "**Higgs Boson detection data**. The data has been produced using Monte Carlo simulations. The first 21 features (columns 2-22) are kinematic properties measured by the particle detectors in the accelerator. The last seven features are functions of the first 21 features; these are high-level features derived by physicists to help discriminate between the two classes. There is an interest in using deep learning methods to obviate the need for physicists to manually develop such features. The last 500,000 examples are used as a test set.\n",
      "\n",
      "**Note: This is the UCI Higgs dataset, same as version 1, but it fixes the definition of the class attribute, which is categorical, not numeric.**\n",
      "\n",
      "\n",
      "### Attribute Information\n",
      "* The first column is the class label (1 for signal, 0 for background)\n",
      "* 21 low-level features (kinematic properties): lepton pT, lepton eta, lepton phi, missing energy magnitude, missing energy phi, jet 1 pt, jet 1 eta, jet 1 phi, jet 1 b-tag, jet 2 pt, jet 2 eta, jet 2 phi, jet 2 b-tag, jet 3 pt, jet 3 eta, jet 3 phi, jet 3 b-tag, jet 4 pt, jet 4 eta, jet 4 phi, jet 4 b-tag\n",
      "* 7 high-level features derived by physicists: m_jj, m_jjj, m_lv, m_jlv, m_bb, m_wbb, m_wwbb. \n",
      "\n",
      "For more detailed information about each feature see the original paper.\n",
      "\n",
      "Relevant Papers:\n",
      "\n",
      "Baldi, P., P. Sadowski, and D. Whiteson. Searching for Exotic Particles in High-energy Physics with Deep Learning. Nature Communications 5 (July 2, 2014).\n",
      "\n",
      "Downloaded from openml.org.\n"
     ]
    }
   ],
   "source": [
    "print(higgs.DESCR)"
   ]
  },
  {
   "cell_type": "code",
   "execution_count": 16,
   "metadata": {},
   "outputs": [],
   "source": [
    "df = pd.DataFrame(higgs.data, columns=higgs.feature_names)"
   ]
  },
  {
   "cell_type": "code",
   "execution_count": 17,
   "metadata": {},
   "outputs": [
    {
     "data": {
      "text/html": [
       "<div>\n",
       "<style scoped>\n",
       "    .dataframe tbody tr th:only-of-type {\n",
       "        vertical-align: middle;\n",
       "    }\n",
       "\n",
       "    .dataframe tbody tr th {\n",
       "        vertical-align: top;\n",
       "    }\n",
       "\n",
       "    .dataframe thead th {\n",
       "        text-align: right;\n",
       "    }\n",
       "</style>\n",
       "<table border=\"1\" class=\"dataframe\">\n",
       "  <thead>\n",
       "    <tr style=\"text-align: right;\">\n",
       "      <th></th>\n",
       "      <th>lepton_pT</th>\n",
       "      <th>lepton_eta</th>\n",
       "      <th>lepton_phi</th>\n",
       "      <th>missing_energy_magnitude</th>\n",
       "      <th>missing_energy_phi</th>\n",
       "      <th>jet1pt</th>\n",
       "      <th>jet1eta</th>\n",
       "      <th>jet1phi</th>\n",
       "      <th>jet1b-tag</th>\n",
       "      <th>jet2pt</th>\n",
       "      <th>...</th>\n",
       "      <th>jet4eta</th>\n",
       "      <th>jet4phi</th>\n",
       "      <th>jet4b-tag</th>\n",
       "      <th>m_jj</th>\n",
       "      <th>m_jjj</th>\n",
       "      <th>m_lv</th>\n",
       "      <th>m_jlv</th>\n",
       "      <th>m_bb</th>\n",
       "      <th>m_wbb</th>\n",
       "      <th>m_wwbb</th>\n",
       "    </tr>\n",
       "  </thead>\n",
       "  <tbody>\n",
       "    <tr>\n",
       "      <th>0</th>\n",
       "      <td>0.907542</td>\n",
       "      <td>0.329147</td>\n",
       "      <td>0.359412</td>\n",
       "      <td>1.497970</td>\n",
       "      <td>-0.313010</td>\n",
       "      <td>1.095531</td>\n",
       "      <td>-0.557525</td>\n",
       "      <td>-1.588230</td>\n",
       "      <td>2.173076</td>\n",
       "      <td>0.812581</td>\n",
       "      <td>...</td>\n",
       "      <td>-1.138930</td>\n",
       "      <td>-0.000819</td>\n",
       "      <td>0.000000</td>\n",
       "      <td>0.302220</td>\n",
       "      <td>0.833048</td>\n",
       "      <td>0.985700</td>\n",
       "      <td>0.978098</td>\n",
       "      <td>0.779732</td>\n",
       "      <td>0.992356</td>\n",
       "      <td>0.798343</td>\n",
       "    </tr>\n",
       "    <tr>\n",
       "      <th>1</th>\n",
       "      <td>0.798835</td>\n",
       "      <td>1.470639</td>\n",
       "      <td>-1.635975</td>\n",
       "      <td>0.453773</td>\n",
       "      <td>0.425629</td>\n",
       "      <td>1.104875</td>\n",
       "      <td>1.282322</td>\n",
       "      <td>1.381664</td>\n",
       "      <td>0.000000</td>\n",
       "      <td>0.851737</td>\n",
       "      <td>...</td>\n",
       "      <td>1.128848</td>\n",
       "      <td>0.900461</td>\n",
       "      <td>0.000000</td>\n",
       "      <td>0.909753</td>\n",
       "      <td>1.108330</td>\n",
       "      <td>0.985692</td>\n",
       "      <td>0.951331</td>\n",
       "      <td>0.803252</td>\n",
       "      <td>0.865924</td>\n",
       "      <td>0.780118</td>\n",
       "    </tr>\n",
       "    <tr>\n",
       "      <th>2</th>\n",
       "      <td>1.344385</td>\n",
       "      <td>-0.876626</td>\n",
       "      <td>0.935913</td>\n",
       "      <td>1.992050</td>\n",
       "      <td>0.882454</td>\n",
       "      <td>1.786066</td>\n",
       "      <td>-1.646778</td>\n",
       "      <td>-0.942383</td>\n",
       "      <td>0.000000</td>\n",
       "      <td>2.423265</td>\n",
       "      <td>...</td>\n",
       "      <td>-0.678379</td>\n",
       "      <td>-1.360356</td>\n",
       "      <td>0.000000</td>\n",
       "      <td>0.946652</td>\n",
       "      <td>1.028704</td>\n",
       "      <td>0.998656</td>\n",
       "      <td>0.728281</td>\n",
       "      <td>0.869200</td>\n",
       "      <td>1.026736</td>\n",
       "      <td>0.957904</td>\n",
       "    </tr>\n",
       "    <tr>\n",
       "      <th>3</th>\n",
       "      <td>1.105009</td>\n",
       "      <td>0.321356</td>\n",
       "      <td>1.522401</td>\n",
       "      <td>0.882808</td>\n",
       "      <td>-1.205349</td>\n",
       "      <td>0.681466</td>\n",
       "      <td>-1.070464</td>\n",
       "      <td>-0.921871</td>\n",
       "      <td>0.000000</td>\n",
       "      <td>0.800872</td>\n",
       "      <td>...</td>\n",
       "      <td>-0.373566</td>\n",
       "      <td>0.113041</td>\n",
       "      <td>0.000000</td>\n",
       "      <td>0.755856</td>\n",
       "      <td>1.361057</td>\n",
       "      <td>0.986610</td>\n",
       "      <td>0.838085</td>\n",
       "      <td>1.133295</td>\n",
       "      <td>0.872245</td>\n",
       "      <td>0.808487</td>\n",
       "    </tr>\n",
       "    <tr>\n",
       "      <th>4</th>\n",
       "      <td>1.595839</td>\n",
       "      <td>-0.607811</td>\n",
       "      <td>0.007075</td>\n",
       "      <td>1.818450</td>\n",
       "      <td>-0.111906</td>\n",
       "      <td>0.847550</td>\n",
       "      <td>-0.566437</td>\n",
       "      <td>1.581239</td>\n",
       "      <td>2.173076</td>\n",
       "      <td>0.755421</td>\n",
       "      <td>...</td>\n",
       "      <td>-0.654227</td>\n",
       "      <td>-1.274345</td>\n",
       "      <td>3.101961</td>\n",
       "      <td>0.823761</td>\n",
       "      <td>0.938191</td>\n",
       "      <td>0.971758</td>\n",
       "      <td>0.789176</td>\n",
       "      <td>0.430553</td>\n",
       "      <td>0.961357</td>\n",
       "      <td>0.957818</td>\n",
       "    </tr>\n",
       "  </tbody>\n",
       "</table>\n",
       "<p>5 rows × 28 columns</p>\n",
       "</div>"
      ],
      "text/plain": [
       "   lepton_pT  lepton_eta  lepton_phi  missing_energy_magnitude  \\\n",
       "0   0.907542    0.329147    0.359412                  1.497970   \n",
       "1   0.798835    1.470639   -1.635975                  0.453773   \n",
       "2   1.344385   -0.876626    0.935913                  1.992050   \n",
       "3   1.105009    0.321356    1.522401                  0.882808   \n",
       "4   1.595839   -0.607811    0.007075                  1.818450   \n",
       "\n",
       "   missing_energy_phi    jet1pt   jet1eta   jet1phi  jet1b-tag    jet2pt  ...  \\\n",
       "0           -0.313010  1.095531 -0.557525 -1.588230   2.173076  0.812581  ...   \n",
       "1            0.425629  1.104875  1.282322  1.381664   0.000000  0.851737  ...   \n",
       "2            0.882454  1.786066 -1.646778 -0.942383   0.000000  2.423265  ...   \n",
       "3           -1.205349  0.681466 -1.070464 -0.921871   0.000000  0.800872  ...   \n",
       "4           -0.111906  0.847550 -0.566437  1.581239   2.173076  0.755421  ...   \n",
       "\n",
       "    jet4eta   jet4phi  jet4b-tag      m_jj     m_jjj      m_lv     m_jlv  \\\n",
       "0 -1.138930 -0.000819   0.000000  0.302220  0.833048  0.985700  0.978098   \n",
       "1  1.128848  0.900461   0.000000  0.909753  1.108330  0.985692  0.951331   \n",
       "2 -0.678379 -1.360356   0.000000  0.946652  1.028704  0.998656  0.728281   \n",
       "3 -0.373566  0.113041   0.000000  0.755856  1.361057  0.986610  0.838085   \n",
       "4 -0.654227 -1.274345   3.101961  0.823761  0.938191  0.971758  0.789176   \n",
       "\n",
       "       m_bb     m_wbb    m_wwbb  \n",
       "0  0.779732  0.992356  0.798343  \n",
       "1  0.803252  0.865924  0.780118  \n",
       "2  0.869200  1.026736  0.957904  \n",
       "3  1.133295  0.872245  0.808487  \n",
       "4  0.430553  0.961357  0.957818  \n",
       "\n",
       "[5 rows x 28 columns]"
      ]
     },
     "execution_count": 17,
     "metadata": {},
     "output_type": "execute_result"
    }
   ],
   "source": [
    "df.head()"
   ]
  },
  {
   "cell_type": "code",
   "execution_count": 18,
   "metadata": {},
   "outputs": [
    {
     "name": "stdout",
     "output_type": "stream",
     "text": [
      "<class 'pandas.core.frame.DataFrame'>\n",
      "RangeIndex: 98050 entries, 0 to 98049\n",
      "Data columns (total 28 columns):\n",
      "lepton_pT                   98050 non-null float64\n",
      "lepton_eta                  98050 non-null float64\n",
      "lepton_phi                  98050 non-null float64\n",
      "missing_energy_magnitude    98050 non-null float64\n",
      "missing_energy_phi          98050 non-null float64\n",
      "jet1pt                      98050 non-null float64\n",
      "jet1eta                     98050 non-null float64\n",
      "jet1phi                     98050 non-null float64\n",
      "jet1b-tag                   98050 non-null float64\n",
      "jet2pt                      98050 non-null float64\n",
      "jet2eta                     98050 non-null float64\n",
      "jet2phi                     98050 non-null float64\n",
      "jet2b-tag                   98050 non-null float64\n",
      "jet3pt                      98050 non-null float64\n",
      "jet3eta                     98050 non-null float64\n",
      "jet3phi                     98050 non-null float64\n",
      "jet3b-tag                   98050 non-null float64\n",
      "jet4pt                      98050 non-null float64\n",
      "jet4eta                     98050 non-null float64\n",
      "jet4phi                     98049 non-null float64\n",
      "jet4b-tag                   98049 non-null float64\n",
      "m_jj                        98049 non-null float64\n",
      "m_jjj                       98049 non-null float64\n",
      "m_lv                        98049 non-null float64\n",
      "m_jlv                       98049 non-null float64\n",
      "m_bb                        98049 non-null float64\n",
      "m_wbb                       98049 non-null float64\n",
      "m_wwbb                      98049 non-null float64\n",
      "dtypes: float64(28)\n",
      "memory usage: 20.9 MB\n"
     ]
    }
   ],
   "source": [
    "df.info()"
   ]
  },
  {
   "cell_type": "code",
   "execution_count": 19,
   "metadata": {},
   "outputs": [
    {
     "data": {
      "text/html": [
       "<div>\n",
       "<style scoped>\n",
       "    .dataframe tbody tr th:only-of-type {\n",
       "        vertical-align: middle;\n",
       "    }\n",
       "\n",
       "    .dataframe tbody tr th {\n",
       "        vertical-align: top;\n",
       "    }\n",
       "\n",
       "    .dataframe thead th {\n",
       "        text-align: right;\n",
       "    }\n",
       "</style>\n",
       "<table border=\"1\" class=\"dataframe\">\n",
       "  <thead>\n",
       "    <tr style=\"text-align: right;\">\n",
       "      <th></th>\n",
       "      <th>lepton_pT</th>\n",
       "      <th>lepton_eta</th>\n",
       "      <th>lepton_phi</th>\n",
       "      <th>missing_energy_magnitude</th>\n",
       "      <th>missing_energy_phi</th>\n",
       "      <th>jet1pt</th>\n",
       "      <th>jet1eta</th>\n",
       "      <th>jet1phi</th>\n",
       "      <th>jet1b-tag</th>\n",
       "      <th>jet2pt</th>\n",
       "      <th>...</th>\n",
       "      <th>jet4eta</th>\n",
       "      <th>jet4phi</th>\n",
       "      <th>jet4b-tag</th>\n",
       "      <th>m_jj</th>\n",
       "      <th>m_jjj</th>\n",
       "      <th>m_lv</th>\n",
       "      <th>m_jlv</th>\n",
       "      <th>m_bb</th>\n",
       "      <th>m_wbb</th>\n",
       "      <th>m_wwbb</th>\n",
       "    </tr>\n",
       "  </thead>\n",
       "  <tbody>\n",
       "    <tr>\n",
       "      <th>count</th>\n",
       "      <td>98050.000000</td>\n",
       "      <td>98050.000000</td>\n",
       "      <td>98050.000000</td>\n",
       "      <td>98050.000000</td>\n",
       "      <td>98050.000000</td>\n",
       "      <td>98050.000000</td>\n",
       "      <td>98050.000000</td>\n",
       "      <td>98050.000000</td>\n",
       "      <td>98050.000000</td>\n",
       "      <td>98050.000000</td>\n",
       "      <td>...</td>\n",
       "      <td>98050.000000</td>\n",
       "      <td>98049.000000</td>\n",
       "      <td>98049.000000</td>\n",
       "      <td>98049.000000</td>\n",
       "      <td>98049.000000</td>\n",
       "      <td>98049.000000</td>\n",
       "      <td>98049.000000</td>\n",
       "      <td>98049.000000</td>\n",
       "      <td>98049.000000</td>\n",
       "      <td>98049.000000</td>\n",
       "    </tr>\n",
       "    <tr>\n",
       "      <th>mean</th>\n",
       "      <td>0.990320</td>\n",
       "      <td>-0.003950</td>\n",
       "      <td>-0.001020</td>\n",
       "      <td>0.995372</td>\n",
       "      <td>-0.007896</td>\n",
       "      <td>0.987063</td>\n",
       "      <td>-0.003187</td>\n",
       "      <td>-0.000158</td>\n",
       "      <td>0.998518</td>\n",
       "      <td>0.991169</td>\n",
       "      <td>...</td>\n",
       "      <td>-0.006821</td>\n",
       "      <td>-0.004252</td>\n",
       "      <td>0.992748</td>\n",
       "      <td>1.032689</td>\n",
       "      <td>1.023186</td>\n",
       "      <td>1.050129</td>\n",
       "      <td>1.010358</td>\n",
       "      <td>0.973207</td>\n",
       "      <td>1.032052</td>\n",
       "      <td>0.959432</td>\n",
       "    </tr>\n",
       "    <tr>\n",
       "      <th>std</th>\n",
       "      <td>0.561794</td>\n",
       "      <td>1.004883</td>\n",
       "      <td>1.006116</td>\n",
       "      <td>0.595354</td>\n",
       "      <td>1.006835</td>\n",
       "      <td>0.473269</td>\n",
       "      <td>1.008452</td>\n",
       "      <td>1.008649</td>\n",
       "      <td>1.027326</td>\n",
       "      <td>0.498078</td>\n",
       "      <td>...</td>\n",
       "      <td>1.008880</td>\n",
       "      <td>1.007205</td>\n",
       "      <td>1.396809</td>\n",
       "      <td>0.653127</td>\n",
       "      <td>0.372136</td>\n",
       "      <td>0.164565</td>\n",
       "      <td>0.398042</td>\n",
       "      <td>0.522968</td>\n",
       "      <td>0.363590</td>\n",
       "      <td>0.313487</td>\n",
       "    </tr>\n",
       "    <tr>\n",
       "      <th>min</th>\n",
       "      <td>0.274697</td>\n",
       "      <td>-2.434976</td>\n",
       "      <td>-1.742508</td>\n",
       "      <td>0.001283</td>\n",
       "      <td>-1.743944</td>\n",
       "      <td>0.139976</td>\n",
       "      <td>-2.968735</td>\n",
       "      <td>-1.741237</td>\n",
       "      <td>0.000000</td>\n",
       "      <td>0.188981</td>\n",
       "      <td>...</td>\n",
       "      <td>-2.497265</td>\n",
       "      <td>-1.742691</td>\n",
       "      <td>0.000000</td>\n",
       "      <td>0.110875</td>\n",
       "      <td>0.303144</td>\n",
       "      <td>0.133012</td>\n",
       "      <td>0.295983</td>\n",
       "      <td>0.048125</td>\n",
       "      <td>0.303350</td>\n",
       "      <td>0.350939</td>\n",
       "    </tr>\n",
       "    <tr>\n",
       "      <th>25%</th>\n",
       "      <td>0.590936</td>\n",
       "      <td>-0.741001</td>\n",
       "      <td>-0.867492</td>\n",
       "      <td>0.575680</td>\n",
       "      <td>-0.881763</td>\n",
       "      <td>0.676336</td>\n",
       "      <td>-0.689225</td>\n",
       "      <td>-0.868096</td>\n",
       "      <td>0.000000</td>\n",
       "      <td>0.656964</td>\n",
       "      <td>...</td>\n",
       "      <td>-0.724184</td>\n",
       "      <td>-0.877583</td>\n",
       "      <td>0.000000</td>\n",
       "      <td>0.791368</td>\n",
       "      <td>0.846572</td>\n",
       "      <td>0.985771</td>\n",
       "      <td>0.767491</td>\n",
       "      <td>0.674055</td>\n",
       "      <td>0.819441</td>\n",
       "      <td>0.770026</td>\n",
       "    </tr>\n",
       "    <tr>\n",
       "      <th>50%</th>\n",
       "      <td>0.854835</td>\n",
       "      <td>-0.002976</td>\n",
       "      <td>0.002081</td>\n",
       "      <td>0.890839</td>\n",
       "      <td>-0.011589</td>\n",
       "      <td>0.892163</td>\n",
       "      <td>-0.001016</td>\n",
       "      <td>-0.004931</td>\n",
       "      <td>1.086538</td>\n",
       "      <td>0.889256</td>\n",
       "      <td>...</td>\n",
       "      <td>-0.009622</td>\n",
       "      <td>-0.010253</td>\n",
       "      <td>0.000000</td>\n",
       "      <td>0.895673</td>\n",
       "      <td>0.950702</td>\n",
       "      <td>0.989737</td>\n",
       "      <td>0.917320</td>\n",
       "      <td>0.874083</td>\n",
       "      <td>0.947187</td>\n",
       "      <td>0.871170</td>\n",
       "    </tr>\n",
       "    <tr>\n",
       "      <th>75%</th>\n",
       "      <td>1.236547</td>\n",
       "      <td>0.734318</td>\n",
       "      <td>0.868220</td>\n",
       "      <td>1.291567</td>\n",
       "      <td>0.865098</td>\n",
       "      <td>1.167534</td>\n",
       "      <td>0.683233</td>\n",
       "      <td>0.871085</td>\n",
       "      <td>2.173076</td>\n",
       "      <td>1.199357</td>\n",
       "      <td>...</td>\n",
       "      <td>0.711603</td>\n",
       "      <td>0.869386</td>\n",
       "      <td>3.101961</td>\n",
       "      <td>1.026068</td>\n",
       "      <td>1.083365</td>\n",
       "      <td>1.020822</td>\n",
       "      <td>1.141703</td>\n",
       "      <td>1.140051</td>\n",
       "      <td>1.139135</td>\n",
       "      <td>1.057654</td>\n",
       "    </tr>\n",
       "    <tr>\n",
       "      <th>max</th>\n",
       "      <td>7.805887</td>\n",
       "      <td>2.433894</td>\n",
       "      <td>1.743236</td>\n",
       "      <td>7.998711</td>\n",
       "      <td>1.743229</td>\n",
       "      <td>7.064657</td>\n",
       "      <td>2.969674</td>\n",
       "      <td>1.741454</td>\n",
       "      <td>2.173076</td>\n",
       "      <td>8.280169</td>\n",
       "      <td>...</td>\n",
       "      <td>2.498009</td>\n",
       "      <td>1.743372</td>\n",
       "      <td>3.101961</td>\n",
       "      <td>18.428827</td>\n",
       "      <td>10.038273</td>\n",
       "      <td>4.565248</td>\n",
       "      <td>7.442589</td>\n",
       "      <td>11.994177</td>\n",
       "      <td>7.318191</td>\n",
       "      <td>6.015647</td>\n",
       "    </tr>\n",
       "  </tbody>\n",
       "</table>\n",
       "<p>8 rows × 28 columns</p>\n",
       "</div>"
      ],
      "text/plain": [
       "          lepton_pT    lepton_eta    lepton_phi  missing_energy_magnitude  \\\n",
       "count  98050.000000  98050.000000  98050.000000              98050.000000   \n",
       "mean       0.990320     -0.003950     -0.001020                  0.995372   \n",
       "std        0.561794      1.004883      1.006116                  0.595354   \n",
       "min        0.274697     -2.434976     -1.742508                  0.001283   \n",
       "25%        0.590936     -0.741001     -0.867492                  0.575680   \n",
       "50%        0.854835     -0.002976      0.002081                  0.890839   \n",
       "75%        1.236547      0.734318      0.868220                  1.291567   \n",
       "max        7.805887      2.433894      1.743236                  7.998711   \n",
       "\n",
       "       missing_energy_phi        jet1pt       jet1eta       jet1phi  \\\n",
       "count        98050.000000  98050.000000  98050.000000  98050.000000   \n",
       "mean            -0.007896      0.987063     -0.003187     -0.000158   \n",
       "std              1.006835      0.473269      1.008452      1.008649   \n",
       "min             -1.743944      0.139976     -2.968735     -1.741237   \n",
       "25%             -0.881763      0.676336     -0.689225     -0.868096   \n",
       "50%             -0.011589      0.892163     -0.001016     -0.004931   \n",
       "75%              0.865098      1.167534      0.683233      0.871085   \n",
       "max              1.743229      7.064657      2.969674      1.741454   \n",
       "\n",
       "          jet1b-tag        jet2pt  ...       jet4eta       jet4phi  \\\n",
       "count  98050.000000  98050.000000  ...  98050.000000  98049.000000   \n",
       "mean       0.998518      0.991169  ...     -0.006821     -0.004252   \n",
       "std        1.027326      0.498078  ...      1.008880      1.007205   \n",
       "min        0.000000      0.188981  ...     -2.497265     -1.742691   \n",
       "25%        0.000000      0.656964  ...     -0.724184     -0.877583   \n",
       "50%        1.086538      0.889256  ...     -0.009622     -0.010253   \n",
       "75%        2.173076      1.199357  ...      0.711603      0.869386   \n",
       "max        2.173076      8.280169  ...      2.498009      1.743372   \n",
       "\n",
       "          jet4b-tag          m_jj         m_jjj          m_lv         m_jlv  \\\n",
       "count  98049.000000  98049.000000  98049.000000  98049.000000  98049.000000   \n",
       "mean       0.992748      1.032689      1.023186      1.050129      1.010358   \n",
       "std        1.396809      0.653127      0.372136      0.164565      0.398042   \n",
       "min        0.000000      0.110875      0.303144      0.133012      0.295983   \n",
       "25%        0.000000      0.791368      0.846572      0.985771      0.767491   \n",
       "50%        0.000000      0.895673      0.950702      0.989737      0.917320   \n",
       "75%        3.101961      1.026068      1.083365      1.020822      1.141703   \n",
       "max        3.101961     18.428827     10.038273      4.565248      7.442589   \n",
       "\n",
       "               m_bb         m_wbb        m_wwbb  \n",
       "count  98049.000000  98049.000000  98049.000000  \n",
       "mean       0.973207      1.032052      0.959432  \n",
       "std        0.522968      0.363590      0.313487  \n",
       "min        0.048125      0.303350      0.350939  \n",
       "25%        0.674055      0.819441      0.770026  \n",
       "50%        0.874083      0.947187      0.871170  \n",
       "75%        1.140051      1.139135      1.057654  \n",
       "max       11.994177      7.318191      6.015647  \n",
       "\n",
       "[8 rows x 28 columns]"
      ]
     },
     "execution_count": 19,
     "metadata": {},
     "output_type": "execute_result"
    }
   ],
   "source": [
    "df.describe()"
   ]
  },
  {
   "cell_type": "code",
   "execution_count": 20,
   "metadata": {},
   "outputs": [
    {
     "data": {
      "text/plain": [
       "<matplotlib.axes._subplots.AxesSubplot at 0x7f582f444e10>"
      ]
     },
     "execution_count": 20,
     "metadata": {},
     "output_type": "execute_result"
    },
    {
     "data": {
      "image/png": "[encoded data removed]",
      "text/plain": [
       "<Figure size 432x288 with 1 Axes>"
      ]
     },
     "metadata": {
      "needs_background": "light"
     },
     "output_type": "display_data"
    }
   ],
   "source": [
    "df.lepton_pT.hist()"
   ]
  },
  {
   "cell_type": "code",
   "execution_count": 21,
   "metadata": {},
   "outputs": [
    {
     "data": {
      "text/plain": [
       "<matplotlib.axes._subplots.AxesSubplot at 0x7f582f2227d0>"
      ]
     },
     "execution_count": 21,
     "metadata": {},
     "output_type": "execute_result"
    },
    {
     "data": {
      "image/png": "[encoded data removed]",
      "text/plain": [
       "<Figure size 432x288 with 1 Axes>"
      ]
     },
     "metadata": {
      "needs_background": "light"
     },
     "output_type": "display_data"
    }
   ],
   "source": [
    "df.missing_energy_phi.hist()"
   ]
  },
  {
   "cell_type": "code",
   "execution_count": 24,
   "metadata": {},
   "outputs": [],
   "source": [
    "df.loc[:, higgs.target_names] = higgs.target.astype(np.int)"
   ]
  },
  {
   "cell_type": "code",
   "execution_count": 26,
   "metadata": {},
   "outputs": [
    {
     "data": {
      "text/plain": [
       "0        1\n",
       "1        1\n",
       "2        0\n",
       "3        1\n",
       "4        0\n",
       "        ..\n",
       "98045    1\n",
       "98046    0\n",
       "98047    0\n",
       "98048    0\n",
       "98049    1\n",
       "Name: class, Length: 98050, dtype: int64"
      ]
     },
     "execution_count": 26,
     "metadata": {},
     "output_type": "execute_result"
    }
   ],
   "source": [
    "df['class']"
   ]
  },
  {
   "cell_type": "code",
   "execution_count": 27,
   "metadata": {},
   "outputs": [],
   "source": [
    "df = df.dropna()"
   ]
  },
  {
   "cell_type": "code",
   "execution_count": 28,
   "metadata": {},
   "outputs": [
    {
     "data": {
      "text/plain": [
       "98049"
      ]
     },
     "execution_count": 28,
     "metadata": {},
     "output_type": "execute_result"
    }
   ],
   "source": [
    "len(df)"
   ]
  },
  {
   "cell_type": "code",
   "execution_count": 29,
   "metadata": {},
   "outputs": [],
   "source": [
    "mdf = df.loc[:, ['m_jj', 'm_jjj', 'm_lv', 'm_jlv', 'm_bb', 'm_wbb', 'm_wwbb', 'class']]"
   ]
  },
  {
   "cell_type": "code",
   "execution_count": 30,
   "metadata": {},
   "outputs": [],
   "source": [
    "sample = mdf.sample(100)"
   ]
  },
  {
   "cell_type": "code",
   "execution_count": 33,
   "metadata": {},
   "outputs": [
    {
     "data": {
      "text/html": [
       "<div>\n",
       "<style scoped>\n",
       "    .dataframe tbody tr th:only-of-type {\n",
       "        vertical-align: middle;\n",
       "    }\n",
       "\n",
       "    .dataframe tbody tr th {\n",
       "        vertical-align: top;\n",
       "    }\n",
       "\n",
       "    .dataframe thead th {\n",
       "        text-align: right;\n",
       "    }\n",
       "</style>\n",
       "<table border=\"1\" class=\"dataframe\">\n",
       "  <thead>\n",
       "    <tr style=\"text-align: right;\">\n",
       "      <th></th>\n",
       "      <th>m_jj</th>\n",
       "      <th>m_jjj</th>\n",
       "      <th>m_lv</th>\n",
       "      <th>m_jlv</th>\n",
       "      <th>m_bb</th>\n",
       "      <th>m_wbb</th>\n",
       "      <th>m_wwbb</th>\n",
       "      <th>class</th>\n",
       "    </tr>\n",
       "  </thead>\n",
       "  <tbody>\n",
       "    <tr>\n",
       "      <th>71227</th>\n",
       "      <td>0.771368</td>\n",
       "      <td>0.899686</td>\n",
       "      <td>0.988458</td>\n",
       "      <td>0.865431</td>\n",
       "      <td>0.764230</td>\n",
       "      <td>0.739850</td>\n",
       "      <td>0.659141</td>\n",
       "      <td>0</td>\n",
       "    </tr>\n",
       "    <tr>\n",
       "      <th>24281</th>\n",
       "      <td>1.011025</td>\n",
       "      <td>1.002664</td>\n",
       "      <td>1.448740</td>\n",
       "      <td>1.234376</td>\n",
       "      <td>0.880285</td>\n",
       "      <td>0.936848</td>\n",
       "      <td>0.830644</td>\n",
       "      <td>1</td>\n",
       "    </tr>\n",
       "    <tr>\n",
       "      <th>89620</th>\n",
       "      <td>0.925019</td>\n",
       "      <td>0.648657</td>\n",
       "      <td>0.987652</td>\n",
       "      <td>0.781190</td>\n",
       "      <td>0.757401</td>\n",
       "      <td>0.827974</td>\n",
       "      <td>0.744352</td>\n",
       "      <td>1</td>\n",
       "    </tr>\n",
       "    <tr>\n",
       "      <th>18571</th>\n",
       "      <td>0.861643</td>\n",
       "      <td>0.992786</td>\n",
       "      <td>0.989981</td>\n",
       "      <td>1.026038</td>\n",
       "      <td>0.642495</td>\n",
       "      <td>0.815791</td>\n",
       "      <td>0.829562</td>\n",
       "      <td>1</td>\n",
       "    </tr>\n",
       "    <tr>\n",
       "      <th>30131</th>\n",
       "      <td>0.811064</td>\n",
       "      <td>1.092386</td>\n",
       "      <td>1.170019</td>\n",
       "      <td>1.220519</td>\n",
       "      <td>0.508613</td>\n",
       "      <td>0.874211</td>\n",
       "      <td>0.951633</td>\n",
       "      <td>1</td>\n",
       "    </tr>\n",
       "    <tr>\n",
       "      <th>...</th>\n",
       "      <td>...</td>\n",
       "      <td>...</td>\n",
       "      <td>...</td>\n",
       "      <td>...</td>\n",
       "      <td>...</td>\n",
       "      <td>...</td>\n",
       "      <td>...</td>\n",
       "      <td>...</td>\n",
       "    </tr>\n",
       "    <tr>\n",
       "      <th>53139</th>\n",
       "      <td>0.387713</td>\n",
       "      <td>0.719023</td>\n",
       "      <td>0.999082</td>\n",
       "      <td>0.842588</td>\n",
       "      <td>0.924111</td>\n",
       "      <td>0.899547</td>\n",
       "      <td>0.699911</td>\n",
       "      <td>1</td>\n",
       "    </tr>\n",
       "    <tr>\n",
       "      <th>30292</th>\n",
       "      <td>1.028127</td>\n",
       "      <td>0.986998</td>\n",
       "      <td>1.092097</td>\n",
       "      <td>1.607497</td>\n",
       "      <td>1.148647</td>\n",
       "      <td>1.099662</td>\n",
       "      <td>1.023048</td>\n",
       "      <td>0</td>\n",
       "    </tr>\n",
       "    <tr>\n",
       "      <th>42206</th>\n",
       "      <td>0.638118</td>\n",
       "      <td>0.828273</td>\n",
       "      <td>0.990665</td>\n",
       "      <td>0.831532</td>\n",
       "      <td>1.163548</td>\n",
       "      <td>0.766774</td>\n",
       "      <td>0.741155</td>\n",
       "      <td>0</td>\n",
       "    </tr>\n",
       "    <tr>\n",
       "      <th>52958</th>\n",
       "      <td>0.805438</td>\n",
       "      <td>1.026978</td>\n",
       "      <td>1.000325</td>\n",
       "      <td>0.916040</td>\n",
       "      <td>0.600926</td>\n",
       "      <td>0.711534</td>\n",
       "      <td>0.750405</td>\n",
       "      <td>0</td>\n",
       "    </tr>\n",
       "    <tr>\n",
       "      <th>88509</th>\n",
       "      <td>0.872725</td>\n",
       "      <td>1.039812</td>\n",
       "      <td>0.988369</td>\n",
       "      <td>0.922448</td>\n",
       "      <td>0.974005</td>\n",
       "      <td>0.787041</td>\n",
       "      <td>0.794852</td>\n",
       "      <td>0</td>\n",
       "    </tr>\n",
       "  </tbody>\n",
       "</table>\n",
       "<p>100 rows × 8 columns</p>\n",
       "</div>"
      ],
      "text/plain": [
       "           m_jj     m_jjj      m_lv     m_jlv      m_bb     m_wbb    m_wwbb  \\\n",
       "71227  0.771368  0.899686  0.988458  0.865431  0.764230  0.739850  0.659141   \n",
       "24281  1.011025  1.002664  1.448740  1.234376  0.880285  0.936848  0.830644   \n",
       "89620  0.925019  0.648657  0.987652  0.781190  0.757401  0.827974  0.744352   \n",
       "18571  0.861643  0.992786  0.989981  1.026038  0.642495  0.815791  0.829562   \n",
       "30131  0.811064  1.092386  1.170019  1.220519  0.508613  0.874211  0.951633   \n",
       "...         ...       ...       ...       ...       ...       ...       ...   \n",
       "53139  0.387713  0.719023  0.999082  0.842588  0.924111  0.899547  0.699911   \n",
       "30292  1.028127  0.986998  1.092097  1.607497  1.148647  1.099662  1.023048   \n",
       "42206  0.638118  0.828273  0.990665  0.831532  1.163548  0.766774  0.741155   \n",
       "52958  0.805438  1.026978  1.000325  0.916040  0.600926  0.711534  0.750405   \n",
       "88509  0.872725  1.039812  0.988369  0.922448  0.974005  0.787041  0.794852   \n",
       "\n",
       "       class  \n",
       "71227      0  \n",
       "24281      1  \n",
       "89620      1  \n",
       "18571      1  \n",
       "30131      1  \n",
       "...      ...  \n",
       "53139      1  \n",
       "30292      0  \n",
       "42206      0  \n",
       "52958      0  \n",
       "88509      0  \n",
       "\n",
       "[100 rows x 8 columns]"
      ]
     },
     "execution_count": 33,
     "metadata": {},
     "output_type": "execute_result"
    }
   ],
   "source": [
    "sample"
   ]
  },
  {
   "cell_type": "markdown",
   "metadata": {},
   "source": [
    "### SDSS Galaxy colors\n",
    "\n",
    "https://www.astroml.org/examples/datasets/plot_sdss_galaxy_colors.html"
   ]
  },
  {
   "cell_type": "code",
   "execution_count": 34,
   "metadata": {},
   "outputs": [],
   "source": [
    "from astroML import datasets"
   ]
  },
  {
   "cell_type": "code",
   "execution_count": 35,
   "metadata": {},
   "outputs": [],
   "source": [
    "data = datasets.fetch_sdss_galaxy_colors()"
   ]
  },
  {
   "cell_type": "code",
   "execution_count": 37,
   "metadata": {},
   "outputs": [
    {
     "data": {
      "text/plain": [
       "numpy.ndarray"
      ]
     },
     "execution_count": 37,
     "metadata": {},
     "output_type": "execute_result"
    }
   ],
   "source": [
    "type(data)"
   ]
  },
  {
   "cell_type": "code",
   "execution_count": 80,
   "metadata": {},
   "outputs": [],
   "source": [
    "sdss = pd.DataFrame(data)"
   ]
  },
  {
   "cell_type": "code",
   "execution_count": 81,
   "metadata": {},
   "outputs": [
    {
     "data": {
      "text/html": [
       "<div>\n",
       "<style scoped>\n",
       "    .dataframe tbody tr th:only-of-type {\n",
       "        vertical-align: middle;\n",
       "    }\n",
       "\n",
       "    .dataframe tbody tr th {\n",
       "        vertical-align: top;\n",
       "    }\n",
       "\n",
       "    .dataframe thead th {\n",
       "        text-align: right;\n",
       "    }\n",
       "</style>\n",
       "<table border=\"1\" class=\"dataframe\">\n",
       "  <thead>\n",
       "    <tr style=\"text-align: right;\">\n",
       "      <th></th>\n",
       "      <th>u</th>\n",
       "      <th>g</th>\n",
       "      <th>r</th>\n",
       "      <th>i</th>\n",
       "      <th>z</th>\n",
       "      <th>specClass</th>\n",
       "      <th>redshift</th>\n",
       "      <th>redshift_err</th>\n",
       "    </tr>\n",
       "  </thead>\n",
       "  <tbody>\n",
       "    <tr>\n",
       "      <th>0</th>\n",
       "      <td>19.01646</td>\n",
       "      <td>17.14540</td>\n",
       "      <td>16.18558</td>\n",
       "      <td>15.67366</td>\n",
       "      <td>15.27131</td>\n",
       "      <td>GALAXY</td>\n",
       "      <td>0.053343</td>\n",
       "      <td>0.000017</td>\n",
       "    </tr>\n",
       "    <tr>\n",
       "      <th>1</th>\n",
       "      <td>18.97694</td>\n",
       "      <td>16.97845</td>\n",
       "      <td>15.96939</td>\n",
       "      <td>15.45580</td>\n",
       "      <td>15.04900</td>\n",
       "      <td>GALAXY</td>\n",
       "      <td>0.061756</td>\n",
       "      <td>0.000019</td>\n",
       "    </tr>\n",
       "    <tr>\n",
       "      <th>2</th>\n",
       "      <td>18.53369</td>\n",
       "      <td>16.54566</td>\n",
       "      <td>15.50050</td>\n",
       "      <td>14.94826</td>\n",
       "      <td>14.48809</td>\n",
       "      <td>GALAXY</td>\n",
       "      <td>0.029378</td>\n",
       "      <td>0.000014</td>\n",
       "    </tr>\n",
       "    <tr>\n",
       "      <th>3</th>\n",
       "      <td>19.44935</td>\n",
       "      <td>19.11551</td>\n",
       "      <td>18.88408</td>\n",
       "      <td>18.89715</td>\n",
       "      <td>18.78528</td>\n",
       "      <td>QSO</td>\n",
       "      <td>2.184197</td>\n",
       "      <td>-1.000000</td>\n",
       "    </tr>\n",
       "    <tr>\n",
       "      <th>4</th>\n",
       "      <td>19.43842</td>\n",
       "      <td>19.41204</td>\n",
       "      <td>19.42630</td>\n",
       "      <td>19.24289</td>\n",
       "      <td>19.23304</td>\n",
       "      <td>QSO</td>\n",
       "      <td>1.910561</td>\n",
       "      <td>0.000473</td>\n",
       "    </tr>\n",
       "    <tr>\n",
       "      <th>5</th>\n",
       "      <td>19.54778</td>\n",
       "      <td>17.62068</td>\n",
       "      <td>16.61984</td>\n",
       "      <td>16.16094</td>\n",
       "      <td>15.79022</td>\n",
       "      <td>GALAXY</td>\n",
       "      <td>0.090000</td>\n",
       "      <td>0.000024</td>\n",
       "    </tr>\n",
       "    <tr>\n",
       "      <th>6</th>\n",
       "      <td>19.20223</td>\n",
       "      <td>18.08021</td>\n",
       "      <td>17.59545</td>\n",
       "      <td>17.24560</td>\n",
       "      <td>17.01008</td>\n",
       "      <td>GALAXY</td>\n",
       "      <td>0.086405</td>\n",
       "      <td>0.000010</td>\n",
       "    </tr>\n",
       "    <tr>\n",
       "      <th>7</th>\n",
       "      <td>18.93398</td>\n",
       "      <td>16.94553</td>\n",
       "      <td>16.01184</td>\n",
       "      <td>15.57366</td>\n",
       "      <td>15.24036</td>\n",
       "      <td>GALAXY</td>\n",
       "      <td>0.102609</td>\n",
       "      <td>0.000023</td>\n",
       "    </tr>\n",
       "    <tr>\n",
       "      <th>8</th>\n",
       "      <td>19.38131</td>\n",
       "      <td>18.14012</td>\n",
       "      <td>17.69559</td>\n",
       "      <td>17.39191</td>\n",
       "      <td>17.29433</td>\n",
       "      <td>GALAXY</td>\n",
       "      <td>0.088319</td>\n",
       "      <td>0.000006</td>\n",
       "    </tr>\n",
       "    <tr>\n",
       "      <th>9</th>\n",
       "      <td>19.54141</td>\n",
       "      <td>19.21008</td>\n",
       "      <td>18.98447</td>\n",
       "      <td>18.86052</td>\n",
       "      <td>18.65671</td>\n",
       "      <td>QSO</td>\n",
       "      <td>2.152367</td>\n",
       "      <td>0.000537</td>\n",
       "    </tr>\n",
       "  </tbody>\n",
       "</table>\n",
       "</div>"
      ],
      "text/plain": [
       "          u         g         r         i         z specClass  redshift  \\\n",
       "0  19.01646  17.14540  16.18558  15.67366  15.27131    GALAXY  0.053343   \n",
       "1  18.97694  16.97845  15.96939  15.45580  15.04900    GALAXY  0.061756   \n",
       "2  18.53369  16.54566  15.50050  14.94826  14.48809    GALAXY  0.029378   \n",
       "3  19.44935  19.11551  18.88408  18.89715  18.78528       QSO  2.184197   \n",
       "4  19.43842  19.41204  19.42630  19.24289  19.23304       QSO  1.910561   \n",
       "5  19.54778  17.62068  16.61984  16.16094  15.79022    GALAXY  0.090000   \n",
       "6  19.20223  18.08021  17.59545  17.24560  17.01008    GALAXY  0.086405   \n",
       "7  18.93398  16.94553  16.01184  15.57366  15.24036    GALAXY  0.102609   \n",
       "8  19.38131  18.14012  17.69559  17.39191  17.29433    GALAXY  0.088319   \n",
       "9  19.54141  19.21008  18.98447  18.86052  18.65671       QSO  2.152367   \n",
       "\n",
       "   redshift_err  \n",
       "0      0.000017  \n",
       "1      0.000019  \n",
       "2      0.000014  \n",
       "3     -1.000000  \n",
       "4      0.000473  \n",
       "5      0.000024  \n",
       "6      0.000010  \n",
       "7      0.000023  \n",
       "8      0.000006  \n",
       "9      0.000537  "
      ]
     },
     "execution_count": 81,
     "metadata": {},
     "output_type": "execute_result"
    }
   ],
   "source": [
    "sdss.head(10)"
   ]
  },
  {
   "cell_type": "code",
   "execution_count": 83,
   "metadata": {},
   "outputs": [],
   "source": [
    "sdss = sdss.loc[sdss.loc[:,'redshift_err'] > 0.]"
   ]
  },
  {
   "cell_type": "code",
   "execution_count": 84,
   "metadata": {},
   "outputs": [
    {
     "name": "stdout",
     "output_type": "stream",
     "text": [
      "<class 'pandas.core.frame.DataFrame'>\n",
      "Int64Index: 49648 entries, 0 to 49999\n",
      "Data columns (total 8 columns):\n",
      "u               49648 non-null float64\n",
      "g               49648 non-null float64\n",
      "r               49648 non-null float64\n",
      "i               49648 non-null float64\n",
      "z               49648 non-null float64\n",
      "specClass       49648 non-null object\n",
      "redshift        49648 non-null float64\n",
      "redshift_err    49648 non-null float64\n",
      "dtypes: float64(7), object(1)\n",
      "memory usage: 3.4+ MB\n"
     ]
    }
   ],
   "source": [
    "sdss.info()"
   ]
  },
  {
   "cell_type": "code",
   "execution_count": 85,
   "metadata": {},
   "outputs": [
    {
     "name": "stderr",
     "output_type": "stream",
     "text": [
      "/home/marcelo/miniconda3/lib/python3.7/site-packages/pandas/core/generic.py:5208: SettingWithCopyWarning: \n",
      "A value is trying to be set on a copy of a slice from a DataFrame.\n",
      "Try using .loc[row_indexer,col_indexer] = value instead\n",
      "\n",
      "See the caveats in the documentation: http://pandas.pydata.org/pandas-docs/stable/user_guide/indexing.html#returning-a-view-versus-a-copy\n",
      "  self[name] = value\n"
     ]
    }
   ],
   "source": [
    "sdss.specClass = pd.Categorical(sdss.specClass)"
   ]
  },
  {
   "cell_type": "code",
   "execution_count": 86,
   "metadata": {},
   "outputs": [
    {
     "name": "stdout",
     "output_type": "stream",
     "text": [
      "<class 'pandas.core.frame.DataFrame'>\n",
      "Int64Index: 49648 entries, 0 to 49999\n",
      "Data columns (total 8 columns):\n",
      "u               49648 non-null float64\n",
      "g               49648 non-null float64\n",
      "r               49648 non-null float64\n",
      "i               49648 non-null float64\n",
      "z               49648 non-null float64\n",
      "specClass       49648 non-null category\n",
      "redshift        49648 non-null float64\n",
      "redshift_err    49648 non-null float64\n",
      "dtypes: category(1), float64(7)\n",
      "memory usage: 3.1 MB\n"
     ]
    }
   ],
   "source": [
    "sdss.info()"
   ]
  },
  {
   "cell_type": "code",
   "execution_count": 87,
   "metadata": {},
   "outputs": [
    {
     "name": "stderr",
     "output_type": "stream",
     "text": [
      "/home/marcelo/miniconda3/lib/python3.7/site-packages/ipykernel_launcher.py:1: SettingWithCopyWarning: \n",
      "A value is trying to be set on a copy of a slice from a DataFrame.\n",
      "Try using .loc[row_indexer,col_indexer] = value instead\n",
      "\n",
      "See the caveats in the documentation: http://pandas.pydata.org/pandas-docs/stable/user_guide/indexing.html#returning-a-view-versus-a-copy\n",
      "  \"\"\"Entry point for launching an IPython kernel.\n",
      "/home/marcelo/miniconda3/lib/python3.7/site-packages/ipykernel_launcher.py:2: SettingWithCopyWarning: \n",
      "A value is trying to be set on a copy of a slice from a DataFrame.\n",
      "Try using .loc[row_indexer,col_indexer] = value instead\n",
      "\n",
      "See the caveats in the documentation: http://pandas.pydata.org/pandas-docs/stable/user_guide/indexing.html#returning-a-view-versus-a-copy\n",
      "  \n"
     ]
    }
   ],
   "source": [
    "sdss['u-g'] = sdss.u - sdss.g\n",
    "sdss['g-r'] = sdss.g - sdss.r"
   ]
  },
  {
   "cell_type": "code",
   "execution_count": 88,
   "metadata": {},
   "outputs": [
    {
     "data": {
      "text/plain": [
       "(-0.5, 1.5)"
      ]
     },
     "execution_count": 88,
     "metadata": {},
     "output_type": "execute_result"
    },
    {
     "data": {
      "image/png": "[encoded data removed]",
      "text/plain": [
       "<Figure size 432x288 with 1 Axes>"
      ]
     },
     "metadata": {
      "needs_background": "light"
     },
     "output_type": "display_data"
    }
   ],
   "source": [
    "sns.scatterplot(x='u-g', y='g-r', data=sdss.sample(5000), hue='specClass')\n",
    "\n",
    "plt.xlim(-0.5, 2.5)\n",
    "plt.ylim(-0.5, 1.5)"
   ]
  },
  {
   "cell_type": "markdown",
   "metadata": {},
   "source": [
    "## Fitting and predicting: estimator basics\n",
    "\n",
    "### Classification"
   ]
  },
  {
   "cell_type": "code",
   "execution_count": 89,
   "metadata": {},
   "outputs": [],
   "source": [
    "# Features\n",
    "Xc = sdss.loc[:, ['u-g', 'g-r']]\n",
    "\n",
    "# Target\n",
    "y = (sdss.specClass=='GALAXY').astype(np.int)"
   ]
  },
  {
   "cell_type": "code",
   "execution_count": 90,
   "metadata": {},
   "outputs": [
    {
     "data": {
      "text/html": [
       "<div>\n",
       "<style scoped>\n",
       "    .dataframe tbody tr th:only-of-type {\n",
       "        vertical-align: middle;\n",
       "    }\n",
       "\n",
       "    .dataframe tbody tr th {\n",
       "        vertical-align: top;\n",
       "    }\n",
       "\n",
       "    .dataframe thead th {\n",
       "        text-align: right;\n",
       "    }\n",
       "</style>\n",
       "<table border=\"1\" class=\"dataframe\">\n",
       "  <thead>\n",
       "    <tr style=\"text-align: right;\">\n",
       "      <th></th>\n",
       "      <th>u-g</th>\n",
       "      <th>g-r</th>\n",
       "    </tr>\n",
       "  </thead>\n",
       "  <tbody>\n",
       "    <tr>\n",
       "      <th>0</th>\n",
       "      <td>1.87106</td>\n",
       "      <td>0.95982</td>\n",
       "    </tr>\n",
       "    <tr>\n",
       "      <th>1</th>\n",
       "      <td>1.99849</td>\n",
       "      <td>1.00906</td>\n",
       "    </tr>\n",
       "    <tr>\n",
       "      <th>2</th>\n",
       "      <td>1.98803</td>\n",
       "      <td>1.04516</td>\n",
       "    </tr>\n",
       "    <tr>\n",
       "      <th>4</th>\n",
       "      <td>0.02638</td>\n",
       "      <td>-0.01426</td>\n",
       "    </tr>\n",
       "    <tr>\n",
       "      <th>5</th>\n",
       "      <td>1.92710</td>\n",
       "      <td>1.00084</td>\n",
       "    </tr>\n",
       "    <tr>\n",
       "      <th>...</th>\n",
       "      <td>...</td>\n",
       "      <td>...</td>\n",
       "    </tr>\n",
       "    <tr>\n",
       "      <th>49995</th>\n",
       "      <td>1.66927</td>\n",
       "      <td>0.92749</td>\n",
       "    </tr>\n",
       "    <tr>\n",
       "      <th>49996</th>\n",
       "      <td>1.21403</td>\n",
       "      <td>0.83021</td>\n",
       "    </tr>\n",
       "    <tr>\n",
       "      <th>49997</th>\n",
       "      <td>1.51953</td>\n",
       "      <td>0.70313</td>\n",
       "    </tr>\n",
       "    <tr>\n",
       "      <th>49998</th>\n",
       "      <td>-0.11271</td>\n",
       "      <td>0.46186</td>\n",
       "    </tr>\n",
       "    <tr>\n",
       "      <th>49999</th>\n",
       "      <td>1.16456</td>\n",
       "      <td>0.44369</td>\n",
       "    </tr>\n",
       "  </tbody>\n",
       "</table>\n",
       "<p>49648 rows × 2 columns</p>\n",
       "</div>"
      ],
      "text/plain": [
       "           u-g      g-r\n",
       "0      1.87106  0.95982\n",
       "1      1.99849  1.00906\n",
       "2      1.98803  1.04516\n",
       "4      0.02638 -0.01426\n",
       "5      1.92710  1.00084\n",
       "...        ...      ...\n",
       "49995  1.66927  0.92749\n",
       "49996  1.21403  0.83021\n",
       "49997  1.51953  0.70313\n",
       "49998 -0.11271  0.46186\n",
       "49999  1.16456  0.44369\n",
       "\n",
       "[49648 rows x 2 columns]"
      ]
     },
     "execution_count": 90,
     "metadata": {},
     "output_type": "execute_result"
    }
   ],
   "source": [
    "Xc"
   ]
  },
  {
   "cell_type": "code",
   "execution_count": 91,
   "metadata": {},
   "outputs": [
    {
     "data": {
      "text/plain": [
       "0        1\n",
       "1        1\n",
       "2        1\n",
       "4        0\n",
       "5        1\n",
       "        ..\n",
       "49995    1\n",
       "49996    1\n",
       "49997    1\n",
       "49998    0\n",
       "49999    1\n",
       "Name: specClass, Length: 49648, dtype: int64"
      ]
     },
     "execution_count": 91,
     "metadata": {},
     "output_type": "execute_result"
    }
   ],
   "source": [
    "y"
   ]
  },
  {
   "cell_type": "code",
   "execution_count": 92,
   "metadata": {},
   "outputs": [],
   "source": [
    "from sklearn.neighbors import KNeighborsClassifier"
   ]
  },
  {
   "cell_type": "code",
   "execution_count": 93,
   "metadata": {},
   "outputs": [],
   "source": [
    "KNN = KNeighborsClassifier(n_neighbors=3)"
   ]
  },
  {
   "cell_type": "code",
   "execution_count": 94,
   "metadata": {},
   "outputs": [
    {
     "data": {
      "text/plain": [
       "KNeighborsClassifier(algorithm='auto', leaf_size=30, metric='minkowski',\n",
       "                     metric_params=None, n_jobs=None, n_neighbors=3, p=2,\n",
       "                     weights='uniform')"
      ]
     },
     "execution_count": 94,
     "metadata": {},
     "output_type": "execute_result"
    }
   ],
   "source": [
    "KNN.fit(Xc, y)"
   ]
  },
  {
   "cell_type": "code",
   "execution_count": 95,
   "metadata": {},
   "outputs": [
    {
     "data": {
      "text/plain": [
       "array([1, 1, 1, ..., 1, 0, 1])"
      ]
     },
     "execution_count": 95,
     "metadata": {},
     "output_type": "execute_result"
    }
   ],
   "source": [
    "KNN.predict(Xc)"
   ]
  },
  {
   "cell_type": "code",
   "execution_count": 96,
   "metadata": {},
   "outputs": [
    {
     "data": {
      "text/plain": [
       "array([[0., 1.],\n",
       "       [0., 1.],\n",
       "       [0., 1.],\n",
       "       ...,\n",
       "       [0., 1.],\n",
       "       [1., 0.],\n",
       "       [0., 1.]])"
      ]
     },
     "execution_count": 96,
     "metadata": {},
     "output_type": "execute_result"
    }
   ],
   "source": [
    "KNN.predict_proba(Xc)"
   ]
  },
  {
   "cell_type": "code",
   "execution_count": 97,
   "metadata": {},
   "outputs": [
    {
     "data": {
      "text/plain": [
       "0.9866862713503062"
      ]
     },
     "execution_count": 97,
     "metadata": {},
     "output_type": "execute_result"
    }
   ],
   "source": [
    "KNN.score(Xc, y)"
   ]
  },
  {
   "cell_type": "markdown",
   "metadata": {},
   "source": [
    "### Regression"
   ]
  },
  {
   "cell_type": "code",
   "execution_count": 98,
   "metadata": {},
   "outputs": [
    {
     "data": {
      "text/plain": [
       "0        0.053343\n",
       "1        0.061756\n",
       "2        0.029378\n",
       "4        1.910561\n",
       "5        0.090000\n",
       "           ...   \n",
       "49995    0.143294\n",
       "49996    0.150726\n",
       "49997    0.030291\n",
       "49998    1.243288\n",
       "49999    0.021288\n",
       "Name: redshift, Length: 49648, dtype: float64"
      ]
     },
     "execution_count": 98,
     "metadata": {},
     "output_type": "execute_result"
    }
   ],
   "source": [
    "Xr = sdss.loc[:, ['u', 'g', 'r', 'i', 'z']]\n",
    "Z = sdss.redshift\n",
    "\n",
    "Z"
   ]
  },
  {
   "cell_type": "code",
   "execution_count": 99,
   "metadata": {},
   "outputs": [],
   "source": [
    "from sklearn.neighbors import KNeighborsRegressor"
   ]
  },
  {
   "cell_type": "code",
   "execution_count": 100,
   "metadata": {},
   "outputs": [],
   "source": [
    "KNR = KNeighborsRegressor(n_neighbors=3)"
   ]
  },
  {
   "cell_type": "code",
   "execution_count": 101,
   "metadata": {},
   "outputs": [
    {
     "data": {
      "text/plain": [
       "KNeighborsRegressor(algorithm='auto', leaf_size=30, metric='minkowski',\n",
       "                    metric_params=None, n_jobs=None, n_neighbors=3, p=2,\n",
       "                    weights='uniform')"
      ]
     },
     "execution_count": 101,
     "metadata": {},
     "output_type": "execute_result"
    }
   ],
   "source": [
    "KNR.fit(Xr, Z)"
   ]
  },
  {
   "cell_type": "code",
   "execution_count": 102,
   "metadata": {},
   "outputs": [],
   "source": [
    "Z_pred = KNR.predict(Xr)"
   ]
  },
  {
   "cell_type": "code",
   "execution_count": 103,
   "metadata": {},
   "outputs": [
    {
     "data": {
      "text/plain": [
       "array([0.05756287, 0.08518886, 0.0548037 , ..., 0.0622647 , 1.309302  ,\n",
       "       0.02982183])"
      ]
     },
     "execution_count": 103,
     "metadata": {},
     "output_type": "execute_result"
    }
   ],
   "source": [
    "Z_pred"
   ]
  },
  {
   "cell_type": "code",
   "execution_count": 104,
   "metadata": {},
   "outputs": [
    {
     "data": {
      "text/plain": [
       "0.8903287396001216"
      ]
     },
     "execution_count": 104,
     "metadata": {},
     "output_type": "execute_result"
    }
   ],
   "source": [
    "KNR.score(Xr, Z)"
   ]
  },
  {
   "cell_type": "code",
   "execution_count": 105,
   "metadata": {},
   "outputs": [
    {
     "data": {
      "text/plain": [
       "Text(0.5, 0, '$z_{true}$')"
      ]
     },
     "execution_count": 105,
     "metadata": {},
     "output_type": "execute_result"
    },
    {
     "data": {
      "image/png": "[encoded data removed]",
      "text/plain": [
       "<Figure size 432x288 with 1 Axes>"
      ]
     },
     "metadata": {
      "needs_background": "light"
     },
     "output_type": "display_data"
    }
   ],
   "source": [
    "plt.plot(Z, Z_pred, '.')\n",
    "plt.plot([0, 1], [0, 1])\n",
    "\n",
    "plt.plot([0, 3], [0, 3], 'r--')\n",
    "\n",
    "plt.xlim(0,3)\n",
    "plt.ylim(0,3)\n",
    "\n",
    "plt.ylabel(r'$z_{pred}$', fontsize=20)\n",
    "plt.xlabel(r'$z_{true}$', fontsize=20)"
   ]
  },
  {
   "cell_type": "markdown",
   "metadata": {},
   "source": [
    "### Transformers and pre-processors"
   ]
  },
  {
   "cell_type": "code",
   "execution_count": 106,
   "metadata": {},
   "outputs": [],
   "source": [
    "from sklearn.preprocessing import StandardScaler"
   ]
  },
  {
   "cell_type": "code",
   "execution_count": 108,
   "metadata": {},
   "outputs": [],
   "source": [
    "StdScalar = StandardScaler()"
   ]
  },
  {
   "cell_type": "code",
   "execution_count": 109,
   "metadata": {},
   "outputs": [
    {
     "data": {
      "text/plain": [
       "StandardScaler(copy=True, with_mean=True, with_std=True)"
      ]
     },
     "execution_count": 109,
     "metadata": {},
     "output_type": "execute_result"
    }
   ],
   "source": [
    "StdScalar.fit(Xr)"
   ]
  },
  {
   "cell_type": "code",
   "execution_count": 110,
   "metadata": {},
   "outputs": [
    {
     "data": {
      "text/plain": [
       "array([[ 0.30457892, -0.37007244, -0.60424528, -0.70177907, -0.78830291],\n",
       "       [ 0.24841986, -0.55037155, -0.7991326 , -0.88432365, -0.96223154],\n",
       "       [-0.38145112, -1.01776688, -1.22181966, -1.30959071, -1.40107059],\n",
       "       ...,\n",
       "       [ 1.00427925,  0.54132632,  0.38791407,  0.35807049,  0.34679052],\n",
       "       [ 0.82807169,  2.17016324,  1.96503286,  2.11849544,  2.28680948],\n",
       "       [-1.2657715 , -0.80052238, -0.49827829, -0.36507789, -0.30340574]])"
      ]
     },
     "execution_count": 110,
     "metadata": {},
     "output_type": "execute_result"
    }
   ],
   "source": [
    "StdScalar.transform(Xr)"
   ]
  },
  {
   "cell_type": "code",
   "execution_count": 111,
   "metadata": {},
   "outputs": [],
   "source": [
    "Xr_scaled = StdScalar.fit_transform(Xr)"
   ]
  },
  {
   "cell_type": "code",
   "execution_count": 113,
   "metadata": {},
   "outputs": [
    {
     "data": {
      "text/plain": [
       "KNeighborsRegressor(algorithm='auto', leaf_size=30, metric='minkowski',\n",
       "                    metric_params=None, n_jobs=None, n_neighbors=3, p=2,\n",
       "                    weights='uniform')"
      ]
     },
     "execution_count": 113,
     "metadata": {},
     "output_type": "execute_result"
    }
   ],
   "source": [
    "KNR.fit(Xr_scaled, Z)"
   ]
  },
  {
   "cell_type": "code",
   "execution_count": 115,
   "metadata": {},
   "outputs": [
    {
     "data": {
      "text/plain": [
       "0.8861964978454727"
      ]
     },
     "execution_count": 115,
     "metadata": {},
     "output_type": "execute_result"
    }
   ],
   "source": [
    "KNR.score(Xr_scaled, Z)"
   ]
  },
  {
   "cell_type": "code",
   "execution_count": 116,
   "metadata": {},
   "outputs": [],
   "source": [
    "z_pred = KNR.predict(Xr_scaled)"
   ]
  },
  {
   "cell_type": "code",
   "execution_count": 118,
   "metadata": {},
   "outputs": [
    {
     "data": {
      "text/plain": [
       "(0, 3)"
      ]
     },
     "execution_count": 118,
     "metadata": {},
     "output_type": "execute_result"
    },
    {
     "data": {
      "image/png": "[encoded data removed]",
      "text/plain": [
       "<Figure size 432x288 with 1 Axes>"
      ]
     },
     "metadata": {
      "needs_background": "light"
     },
     "output_type": "display_data"
    }
   ],
   "source": [
    "plt.plot(Z, Z_pred, '.')\n",
    "plt.plot([0, 1], [0, 1])\n",
    "\n",
    "plt.plot([0, 3], [0, 3], 'r--')\n",
    "plt.xlim(0,3)\n",
    "plt.ylim(0,3)"
   ]
  },
  {
   "cell_type": "markdown",
   "metadata": {},
   "source": [
    "### Pipelines: chaining pre-processors and estimators"
   ]
  },
  {
   "cell_type": "code",
   "execution_count": 119,
   "metadata": {},
   "outputs": [],
   "source": [
    "from sklearn.pipeline import make_pipeline\n",
    "from sklearn.model_selection import train_test_split\n",
    "from sklearn.metrics import accuracy_score"
   ]
  },
  {
   "cell_type": "code",
   "execution_count": 120,
   "metadata": {},
   "outputs": [],
   "source": [
    "Xr_train, Xr_test, Z_train, Z_test = train_test_split(Xr_scaled, Z, train_size=0.8, random_state=0)"
   ]
  },
  {
   "cell_type": "code",
   "execution_count": 121,
   "metadata": {},
   "outputs": [
    {
     "data": {
      "text/plain": [
       "((39718, 5), (9930, 5), (39718,), (9930,))"
      ]
     },
     "execution_count": 121,
     "metadata": {},
     "output_type": "execute_result"
    }
   ],
   "source": [
    "Xr_train.shape, Xr_test.shape, Z_train.shape, Z_test.shape"
   ]
  },
  {
   "cell_type": "code",
   "execution_count": 123,
   "metadata": {},
   "outputs": [
    {
     "data": {
      "text/plain": [
       "Pipeline(memory=None,\n",
       "         steps=[('standardscaler',\n",
       "                 StandardScaler(copy=True, with_mean=True, with_std=True)),\n",
       "                ('kneighborsregressor',\n",
       "                 KNeighborsRegressor(algorithm='auto', leaf_size=30,\n",
       "                                     metric='minkowski', metric_params=None,\n",
       "                                     n_jobs=None, n_neighbors=5, p=2,\n",
       "                                     weights='uniform'))],\n",
       "         verbose=False)"
      ]
     },
     "execution_count": 123,
     "metadata": {},
     "output_type": "execute_result"
    }
   ],
   "source": [
    "pipeline = make_pipeline(StandardScaler(), KNeighborsRegressor())\n",
    "\n",
    "pipeline"
   ]
  },
  {
   "cell_type": "code",
   "execution_count": 125,
   "metadata": {},
   "outputs": [
    {
     "data": {
      "text/plain": [
       "Pipeline(memory=None,\n",
       "         steps=[('standardscaler',\n",
       "                 StandardScaler(copy=True, with_mean=True, with_std=True)),\n",
       "                ('kneighborsregressor',\n",
       "                 KNeighborsRegressor(algorithm='auto', leaf_size=30,\n",
       "                                     metric='minkowski', metric_params=None,\n",
       "                                     n_jobs=None, n_neighbors=5, p=2,\n",
       "                                     weights='uniform'))],\n",
       "         verbose=False)"
      ]
     },
     "execution_count": 125,
     "metadata": {},
     "output_type": "execute_result"
    }
   ],
   "source": [
    "pipeline.fit(Xr_train, Z_train)"
   ]
  },
  {
   "cell_type": "code",
   "execution_count": 126,
   "metadata": {},
   "outputs": [],
   "source": [
    "Z_pred = pipeline.predict(Xr_test)"
   ]
  },
  {
   "cell_type": "code",
   "execution_count": 127,
   "metadata": {},
   "outputs": [
    {
     "data": {
      "text/plain": [
       "(0, 3)"
      ]
     },
     "execution_count": 127,
     "metadata": {},
     "output_type": "execute_result"
    },
    {
     "data": {
      "image/png": "[encoded data removed]",
      "text/plain": [
       "<Figure size 432x288 with 1 Axes>"
      ]
     },
     "metadata": {
      "needs_background": "light"
     },
     "output_type": "display_data"
    }
   ],
   "source": [
    "plt.plot(Z_test, Z_pred, '.')\n",
    "plt.plot([0, 1], [0, 1])\n",
    "\n",
    "plt.plot([0, 3], [0, 3], 'r--')\n",
    "plt.xlim(0,3)\n",
    "plt.ylim(0,3)"
   ]
  },
  {
   "cell_type": "code",
   "execution_count": 130,
   "metadata": {},
   "outputs": [
    {
     "data": {
      "text/plain": [
       "0.8607578291030294"
      ]
     },
     "execution_count": 130,
     "metadata": {},
     "output_type": "execute_result"
    }
   ],
   "source": [
    "pipeline.score(Xr_train, Z_train)"
   ]
  },
  {
   "cell_type": "code",
   "execution_count": 131,
   "metadata": {},
   "outputs": [
    {
     "data": {
      "text/plain": [
       "0.7342029250950817"
      ]
     },
     "execution_count": 131,
     "metadata": {},
     "output_type": "execute_result"
    }
   ],
   "source": [
    "pipeline.score(Xr_test, Z_test)"
   ]
  },
  {
   "cell_type": "markdown",
   "metadata": {},
   "source": [
    "## Model evaluation\n"
   ]
  },
  {
   "cell_type": "code",
   "execution_count": 132,
   "metadata": {},
   "outputs": [],
   "source": [
    "from sklearn.model_selection import cross_validate"
   ]
  },
  {
   "cell_type": "code",
   "execution_count": 135,
   "metadata": {},
   "outputs": [],
   "source": [
    "Xc_train, Xc_test, y_train, y_test = train_test_split(Xc, y, train_size=0.8, random_state=0)"
   ]
  },
  {
   "cell_type": "code",
   "execution_count": 147,
   "metadata": {},
   "outputs": [],
   "source": [
    "result = cross_validate(KNN, Xc_train, y_train, cv=5, n_jobs=-1, return_estimator=True)"
   ]
  },
  {
   "cell_type": "code",
   "execution_count": 149,
   "metadata": {},
   "outputs": [
    {
     "data": {
      "text/plain": [
       "{'fit_time': array([0.04046917, 0.04260683, 0.08709431, 0.06763053, 0.03878498]),\n",
       " 'score_time': array([0.54465294, 0.48640895, 0.50471544, 0.49131751, 0.22076011]),\n",
       " 'estimator': (KNeighborsClassifier(algorithm='auto', leaf_size=30, metric='minkowski',\n",
       "                       metric_params=None, n_jobs=None, n_neighbors=3, p=2,\n",
       "                       weights='uniform'),\n",
       "  KNeighborsClassifier(algorithm='auto', leaf_size=30, metric='minkowski',\n",
       "                       metric_params=None, n_jobs=None, n_neighbors=3, p=2,\n",
       "                       weights='uniform'),\n",
       "  KNeighborsClassifier(algorithm='auto', leaf_size=30, metric='minkowski',\n",
       "                       metric_params=None, n_jobs=None, n_neighbors=3, p=2,\n",
       "                       weights='uniform'),\n",
       "  KNeighborsClassifier(algorithm='auto', leaf_size=30, metric='minkowski',\n",
       "                       metric_params=None, n_jobs=None, n_neighbors=3, p=2,\n",
       "                       weights='uniform'),\n",
       "  KNeighborsClassifier(algorithm='auto', leaf_size=30, metric='minkowski',\n",
       "                       metric_params=None, n_jobs=None, n_neighbors=3, p=2,\n",
       "                       weights='uniform')),\n",
       " 'test_score': array([0.98149547, 0.98099194, 0.98288016, 0.97998237, 0.98061186])}"
      ]
     },
     "execution_count": 149,
     "metadata": {},
     "output_type": "execute_result"
    }
   ],
   "source": [
    "result"
   ]
  },
  {
   "cell_type": "code",
   "execution_count": 150,
   "metadata": {},
   "outputs": [
    {
     "data": {
      "text/plain": [
       "array([0.98149547, 0.98099194, 0.98288016, 0.97998237, 0.98061186])"
      ]
     },
     "execution_count": 150,
     "metadata": {},
     "output_type": "execute_result"
    }
   ],
   "source": [
    "result['test_score']"
   ]
  },
  {
   "cell_type": "markdown",
   "metadata": {},
   "source": [
    "### Automatic parameter searches"
   ]
  },
  {
   "cell_type": "code",
   "execution_count": 151,
   "metadata": {},
   "outputs": [],
   "source": [
    "from sklearn.model_selection import GridSearchCV"
   ]
  },
  {
   "cell_type": "code",
   "execution_count": 152,
   "metadata": {},
   "outputs": [],
   "source": [
    "params = {\n",
    "    'n_neighbors': np.arange(10, 40, 2)\n",
    "}"
   ]
  },
  {
   "cell_type": "code",
   "execution_count": 153,
   "metadata": {},
   "outputs": [
    {
     "data": {
      "text/plain": [
       "{'n_neighbors': array([10, 12, 14, 16, 18, 20, 22, 24, 26, 28, 30, 32, 34, 36, 38])}"
      ]
     },
     "execution_count": 153,
     "metadata": {},
     "output_type": "execute_result"
    }
   ],
   "source": [
    "params"
   ]
  },
  {
   "cell_type": "code",
   "execution_count": 155,
   "metadata": {},
   "outputs": [
    {
     "data": {
      "text/plain": [
       "75"
      ]
     },
     "execution_count": 155,
     "metadata": {},
     "output_type": "execute_result"
    }
   ],
   "source": [
    "len(params['n_neighbors'])*5"
   ]
  },
  {
   "cell_type": "code",
   "execution_count": 157,
   "metadata": {},
   "outputs": [],
   "source": [
    "search = GridSearchCV(estimator=KNeighborsClassifier(), param_grid=params, cv=5, n_jobs=-1)"
   ]
  },
  {
   "cell_type": "code",
   "execution_count": 159,
   "metadata": {},
   "outputs": [
    {
     "data": {
      "text/plain": [
       "GridSearchCV(cv=5, error_score=nan,\n",
       "             estimator=KNeighborsClassifier(algorithm='auto', leaf_size=30,\n",
       "                                            metric='minkowski',\n",
       "                                            metric_params=None, n_jobs=None,\n",
       "                                            n_neighbors=5, p=2,\n",
       "                                            weights='uniform'),\n",
       "             iid='deprecated', n_jobs=-1,\n",
       "             param_grid={'n_neighbors': array([10, 12, 14, 16, 18, 20, 22, 24, 26, 28, 30, 32, 34, 36, 38])},\n",
       "             pre_dispatch='2*n_jobs', refit=True, return_train_score=False,\n",
       "             scoring=None, verbose=0)"
      ]
     },
     "execution_count": 159,
     "metadata": {},
     "output_type": "execute_result"
    }
   ],
   "source": [
    "search.fit(Xc_train, y_train)"
   ]
  },
  {
   "cell_type": "code",
   "execution_count": 162,
   "metadata": {},
   "outputs": [
    {
     "data": {
      "text/plain": [
       "{'n_neighbors': 24}"
      ]
     },
     "execution_count": 162,
     "metadata": {},
     "output_type": "execute_result"
    }
   ],
   "source": [
    "search.best_params_"
   ]
  },
  {
   "cell_type": "code",
   "execution_count": 167,
   "metadata": {},
   "outputs": [
    {
     "data": {
      "text/plain": [
       "{'mean_fit_time': array([0.05062532, 0.03380618, 0.03331938, 0.03192067, 0.03576498,\n",
       "        0.03926516, 0.04177318, 0.04298882, 0.04614162, 0.04455562,\n",
       "        0.045435  , 0.04440246, 0.04337296, 0.0445787 , 0.03945603]),\n",
       " 'std_fit_time': array([0.0139825 , 0.00345467, 0.00139907, 0.00233237, 0.00316367,\n",
       "        0.00481323, 0.00667044, 0.00680177, 0.00351554, 0.00447465,\n",
       "        0.00400657, 0.0048736 , 0.00533881, 0.00633306, 0.00244365]),\n",
       " 'mean_score_time': array([0.55444169, 0.47762485, 0.46294303, 0.4593967 , 0.54656405,\n",
       "        0.56217241, 0.5966886 , 0.60102701, 0.61973405, 0.62951894,\n",
       "        0.60593185, 0.58614492, 0.58987174, 0.61212616, 0.53344922]),\n",
       " 'std_score_time': array([0.07680728, 0.03368031, 0.01863244, 0.01724418, 0.03369747,\n",
       "        0.0245008 , 0.04218756, 0.05744532, 0.03400363, 0.03451283,\n",
       "        0.04047923, 0.02993289, 0.03407029, 0.02806466, 0.0546402 ]),\n",
       " 'param_n_neighbors': masked_array(data=[10, 12, 14, 16, 18, 20, 22, 24, 26, 28, 30, 32, 34, 36,\n",
       "                    38],\n",
       "              mask=[False, False, False, False, False, False, False, False,\n",
       "                    False, False, False, False, False, False, False],\n",
       "        fill_value='?',\n",
       "             dtype=object),\n",
       " 'params': [{'n_neighbors': 10},\n",
       "  {'n_neighbors': 12},\n",
       "  {'n_neighbors': 14},\n",
       "  {'n_neighbors': 16},\n",
       "  {'n_neighbors': 18},\n",
       "  {'n_neighbors': 20},\n",
       "  {'n_neighbors': 22},\n",
       "  {'n_neighbors': 24},\n",
       "  {'n_neighbors': 26},\n",
       "  {'n_neighbors': 28},\n",
       "  {'n_neighbors': 30},\n",
       "  {'n_neighbors': 32},\n",
       "  {'n_neighbors': 34},\n",
       "  {'n_neighbors': 36},\n",
       "  {'n_neighbors': 38}],\n",
       " 'split0_test_score': array([0.98388721, 0.98388721, 0.98363545, 0.98376133, 0.98363545,\n",
       "        0.98350957, 0.98363545, 0.98350957, 0.98350957, 0.98350957,\n",
       "        0.9832578 , 0.98350957, 0.98350957, 0.98338369, 0.9832578 ]),\n",
       " 'split1_test_score': array([0.98275428, 0.98338369, 0.98350957, 0.98401309, 0.98350957,\n",
       "        0.98350957, 0.98363545, 0.9832578 , 0.9832578 , 0.9832578 ,\n",
       "        0.9832578 , 0.98338369, 0.9832578 , 0.98363545, 0.98350957]),\n",
       " 'split2_test_score': array([0.98350957, 0.98363545, 0.98363545, 0.9832578 , 0.98338369,\n",
       "        0.98388721, 0.98350957, 0.98376133, 0.98338369, 0.98350957,\n",
       "        0.9832578 , 0.9832578 , 0.98300604, 0.9832578 , 0.9832578 ]),\n",
       " 'split3_test_score': array([0.98212262, 0.98237442, 0.98262621, 0.98224852, 0.98224852,\n",
       "        0.98237442, 0.98187083, 0.98250031, 0.98237442, 0.98187083,\n",
       "        0.98161904, 0.98199673, 0.98136724, 0.98149314, 0.98161904]),\n",
       " 'split4_test_score': array([0.9832557 , 0.9831298 , 0.9830039 , 0.98287801, 0.98338159,\n",
       "        0.9831298 , 0.98338159, 0.98363339, 0.9830039 , 0.9831298 ,\n",
       "        0.9831298 , 0.9831298 , 0.9830039 , 0.9832557 , 0.98350749]),\n",
       " 'mean_test_score': array([0.98310588, 0.98328211, 0.98328212, 0.98323175, 0.98323176,\n",
       "        0.98328211, 0.98320658, 0.98333248, 0.98310588, 0.98305551,\n",
       "        0.98290445, 0.98305552, 0.98282891, 0.98300515, 0.98303034]),\n",
       " 'std_test_score': array([0.00061422, 0.00051931, 0.00040225, 0.00062984, 0.00050049,\n",
       "        0.00051317, 0.00067447, 0.00044808, 0.00040216, 0.00061029,\n",
       "        0.00064462, 0.0005443 , 0.00075442, 0.00076855, 0.00071451]),\n",
       " 'rank_test_score': array([ 9,  3,  2,  6,  5,  3,  7,  1,  8, 11, 14, 10, 15, 13, 12],\n",
       "       dtype=int32)}"
      ]
     },
     "execution_count": 167,
     "metadata": {},
     "output_type": "execute_result"
    }
   ],
   "source": [
    "search.cv_results_"
   ]
  },
  {
   "cell_type": "code",
   "execution_count": null,
   "metadata": {},
   "outputs": [],
   "source": []
  }
 ],
 "metadata": {
  "kernelspec": {
   "display_name": "Python 3",
   "language": "python",
   "name": "python3"
  },
  "language_info": {
   "codemirror_mode": {
    "name": "ipython",
    "version": 3
   },
   "file_extension": ".py",
   "mimetype": "text/x-python",
   "name": "python",
   "nbconvert_exporter": "python",
   "pygments_lexer": "ipython3",
   "version": "3.7.4"
  }
 },
 "nbformat": 4,
 "nbformat_minor": 2
}
